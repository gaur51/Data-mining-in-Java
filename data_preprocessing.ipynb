{
 "cells": [
  {
   "cell_type": "code",
   "execution_count": 9,
   "metadata": {
    "collapsed": false
   },
   "outputs": [],
   "source": [
    "import csv\n",
    "import random\n",
    "import numpy as np"
   ]
  },
  {
   "cell_type": "code",
   "execution_count": 10,
   "metadata": {
    "collapsed": false
   },
   "outputs": [
    {
     "name": "stdout",
     "output_type": "stream",
     "text": [
      "sum_of_counts: 714861\n"
     ]
    },
    {
     "data": {
      "text/plain": [
       "714861"
      ]
     },
     "execution_count": 10,
     "metadata": {},
     "output_type": "execute_result"
    }
   ],
   "source": [
    "np.random.seed(12345)\n",
    "# GET ALL OF THE DATA.\n",
    "column_titles = []\n",
    "raw_data = []\n",
    "counts = []\n",
    "sum_of_counts = 0\n",
    "with open('New_York_City_Leading_Causes_of_Death.csv', 'rb') as csvfile:\n",
    "    csv_reader = csv.reader(csvfile)\n",
    "    # csv.reader(lines, quotechar='\"', delimiter=',',\n",
    "    #            quoting=csv.QUOTE_ALL, skipinitialspace=True):\n",
    "    i = 0\n",
    "    for row in csv_reader:\n",
    "        if i==0:\n",
    "            column_titles = row;\n",
    "        else:\n",
    "            this_count = int(row[4])\n",
    "            counts.append(this_count)\n",
    "            sum_of_counts += this_count\n",
    "            raw_data.append(row)\n",
    "        i += 1\n",
    "len(raw_data)\n",
    "\n",
    "print('sum_of_counts: ' + str(sum_of_counts))\n",
    "\n",
    "counts = np.array(counts)\n",
    "data = [];\n",
    "for i in range(714861):\n",
    "    probabilities = np.array(counts) * 1.0 / sum_of_counts\n",
    "    chosen_row_index = np.random.choice(a=range(len(raw_data)), p=probabilities)\n",
    "    counts[chosen_row_index] -= 1\n",
    "    sum_of_counts -= 1\n",
    "    data.append(raw_data[chosen_row_index])\n",
    "len(data)"
   ]
  },
  {
   "cell_type": "code",
   "execution_count": 11,
   "metadata": {
    "collapsed": false
   },
   "outputs": [
    {
     "data": {
      "text/plain": [
       "['Year', 'Ethnicity', 'Sex', 'Cause of Death', 'Count', 'Percent']"
      ]
     },
     "execution_count": 11,
     "metadata": {},
     "output_type": "execute_result"
    }
   ],
   "source": [
    "column_titles"
   ]
  },
  {
   "cell_type": "code",
   "execution_count": null,
   "metadata": {
    "collapsed": false
   },
   "outputs": [],
   "source": []
  },
  {
   "cell_type": "code",
   "execution_count": 12,
   "metadata": {
    "collapsed": false
   },
   "outputs": [],
   "source": [
    "interesting_column_titles = ['Year', 'Ethnicity', 'Sex', 'Cause of Death']\n",
    "for title in interesting_column_titles:\n",
    "    if title not in column_titles:\n",
    "        raise Exception()\n",
    "\n",
    "def transform_row(row, column_titles, interesting_column_titles):\n",
    "    \"\"\"\n",
    "    Takes a row from the original data in CSV format and returns a processed row to be used with our algorithm.\n",
    "    \"\"\"\n",
    "    transformed_row = []\n",
    "    for i, entry in enumerate(row):\n",
    "        if entry.strip() and column_titles[i] in interesting_column_titles:\n",
    "            transformed_row.append(column_titles[i] + \":\" + entry)\n",
    "    return transformed_row\n",
    "with open('INTEGRATED-DATASET.csv', 'w') as file_:\n",
    "    # file_.write('whatever')\n",
    "    for data_row in data:\n",
    "        transformed_row = transform_row(data_row, column_titles, interesting_column_titles)\n",
    "        this_row = \"\"\n",
    "        for i, item in enumerate(transformed_row):\n",
    "            if (i is not 0):\n",
    "                this_row += ','\n",
    "            this_row += item\n",
    "        file_.write(this_row + '\\n');"
   ]
  },
  {
   "cell_type": "code",
   "execution_count": null,
   "metadata": {
    "collapsed": false
   },
   "outputs": [],
   "source": []
  },
  {
   "cell_type": "code",
   "execution_count": null,
   "metadata": {
    "collapsed": false
   },
   "outputs": [],
   "source": []
  },
  {
   "cell_type": "code",
   "execution_count": null,
   "metadata": {
    "collapsed": true
   },
   "outputs": [],
   "source": []
  }
 ],
 "metadata": {
  "kernelspec": {
   "display_name": "Python 2",
   "language": "python",
   "name": "python2"
  },
  "language_info": {
   "codemirror_mode": {
    "name": "ipython",
    "version": 2
   },
   "file_extension": ".py",
   "mimetype": "text/x-python",
   "name": "python",
   "nbconvert_exporter": "python",
   "pygments_lexer": "ipython2",
   "version": "2.7.9"
  }
 },
 "nbformat": 4,
 "nbformat_minor": 0
}
